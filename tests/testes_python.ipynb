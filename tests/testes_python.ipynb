{
 "cells": [
  {
   "cell_type": "code",
   "execution_count": null,
   "id": "8c4048db",
   "metadata": {},
   "outputs": [],
   "source": [
    "# !git clone https://github.com/FelipeSchreiber/snap.git\n",
    "# !cd snap;bash install_in_linux.sh"
   ]
  },
  {
   "cell_type": "code",
   "execution_count": null,
   "id": "da3865b8",
   "metadata": {},
   "outputs": [],
   "source": [
    "import sys\n",
    "# caution: path[0] is reserved for script path (or '' in REPL)\n",
    "sys.path.insert(1, '../src/')\n",
    "\n",
    "import numpy as np\n",
    "import pandas as pd\n",
    "import matplotlib.pyplot as plt\n",
    "import seaborn as sns\n",
    "from scipy.optimize import fsolve\n",
    "import networkx as nx\n",
    "from networkx.algorithms import bipartite\n",
    "import subprocess\n",
    "from scipy.stats import powerlaw, expon\n",
    "import scipy.stats as stats\n",
    "from attrAgmFit import *"
   ]
  },
  {
   "cell_type": "code",
   "execution_count": null,
   "id": "b535e717",
   "metadata": {},
   "outputs": [],
   "source": [
    "!python --version"
   ]
  },
  {
   "cell_type": "markdown",
   "id": "10245fde",
   "metadata": {},
   "source": [
    "### Agora geramos um grafo bipartido aleatoriamente\n",
    "<a href=\"https://networkx.org/documentation/stable/reference/algorithms/bipartite.html\">Referencia</a>"
   ]
  },
  {
   "cell_type": "code",
   "execution_count": null,
   "id": "51acfc58",
   "metadata": {},
   "outputs": [],
   "source": [
    "k = 3\n",
    "B = bipartite.random_graph(1000,k,0.15)\n",
    "top_nodes = {n for n, d in B.nodes(data=True) if d[\"bipartite\"] == 0}\n",
    "bottom_nodes = set(B) - top_nodes\n",
    "pos = nx.bipartite_layout(B, top_nodes)\n",
    "nx.draw(B,pos=pos)"
   ]
  },
  {
   "cell_type": "code",
   "execution_count": null,
   "id": "ae102d26",
   "metadata": {},
   "outputs": [],
   "source": [
    "bottom_nodes"
   ]
  },
  {
   "cell_type": "code",
   "execution_count": null,
   "id": "7d516a0c",
   "metadata": {},
   "outputs": [],
   "source": [
    "nx.is_connected(B)"
   ]
  },
  {
   "cell_type": "code",
   "execution_count": null,
   "id": "c0359d60",
   "metadata": {},
   "outputs": [],
   "source": [
    "B.number_of_nodes()"
   ]
  },
  {
   "cell_type": "code",
   "execution_count": null,
   "id": "d36983a7",
   "metadata": {},
   "outputs": [],
   "source": [
    "for u in range(B.number_of_nodes()):\n",
    "    if u not in B.nodes:\n",
    "        print(f\"{u} not in B\")"
   ]
  },
  {
   "cell_type": "markdown",
   "id": "76d5a007",
   "metadata": {},
   "source": [
    "### Save to txt file. Each line contains the nodes belonging to one group"
   ]
  },
  {
   "cell_type": "code",
   "execution_count": null,
   "id": "e65600e3",
   "metadata": {},
   "outputs": [],
   "source": [
    "with open(\"bipartite.txt\",'w') as f:\n",
    "    for node in bottom_nodes:\n",
    "        group = [str(n) for n in B.neighbors(node)]\n",
    "        str_group = ' '.join(group) + \"\\n\"\n",
    "        f.write(str_group)"
   ]
  },
  {
   "cell_type": "code",
   "execution_count": null,
   "id": "9ee2d47e",
   "metadata": {},
   "outputs": [],
   "source": [
    "probs = [str(round(i,2)) for i in np.random.uniform(0,1,k)]\n",
    "str_probs = \",\".join(probs)\n",
    "lambdas = [str(round(i,2)) for i in np.random.rand(k+1)]\n",
    "str_lambdas = \",\".join(lambdas)\n",
    "## -i:input_filename, -a:powerlaw_coeff, -c:powerlaw_coeff, -o:output_filename\n",
    "# subprocess.run([\"./agmgen\",\"-i:bipartite.txt\", \"-a:0.6\", \"-c:1.3\", \"-o:agm_net\", \"-l:%s\"%str_lambdas, \"-pn:-1\"])\n",
    "subprocess.run([\"../src/agmgen\",\"-i:bipartite.txt\", \"-a:0.6\", \"-c:1.3\", \"-o:agm_net.txt\", \"-l:%s\"%str_lambdas, \"-p:%s\"%str_probs, \"-pn:0.1\"])"
   ]
  },
  {
   "cell_type": "code",
   "execution_count": null,
   "id": "0ba087ea",
   "metadata": {},
   "outputs": [],
   "source": [
    "G = nx.read_edgelist(\"agm_net.txt\",create_using=nx.Graph, nodetype = int, edgetype=int, data=((\"weight\", float),))\n",
    "#first_label is the starting integer label, in this case zero\n",
    "G = nx.relabel.convert_node_labels_to_integers(G, first_label=0, ordering='default') \n",
    "# for u, v, d in G.edges(data=True):\n",
    "#     print(u,v,d)"
   ]
  },
  {
   "cell_type": "code",
   "execution_count": null,
   "id": "ac354ce5",
   "metadata": {},
   "outputs": [],
   "source": [
    "for u in range(G.number_of_nodes()):\n",
    "    if u not in G.nodes:\n",
    "        print(f\"{u} not in G\")"
   ]
  },
  {
   "cell_type": "markdown",
   "id": "7e016362",
   "metadata": {},
   "source": [
    "### Fits bigclam algorithm"
   ]
  },
  {
   "cell_type": "code",
   "execution_count": null,
   "id": "b106b6c4",
   "metadata": {},
   "outputs": [],
   "source": [
    "import bigclam as bc\n",
    "F_init = np.random.rand(G.number_of_nodes(),k)"
   ]
  },
  {
   "cell_type": "code",
   "execution_count": null,
   "id": "4c0591bc",
   "metadata": {},
   "outputs": [],
   "source": [
    "#F_1 = bc.train(G, k, iterations = 10, lr=0.005, display_loss=True, F_init=F_init.copy())\n",
    "#F_2 = bc.train_efficient(G, k, iterations = 10, lr=0.005, display_loss=True, F_init=F_init.copy())\n",
    "#F_3 = bc.matrix_factorization(G, k, iterations = 10, lr=0.005)\n",
    "F = bc.train_efficient(G, k, iterations = 10, lr=0.005, display_loss=True, F_init=F_init.copy())"
   ]
  },
  {
   "cell_type": "code",
   "execution_count": null,
   "id": "bf9c5ffe",
   "metadata": {},
   "outputs": [],
   "source": [
    "for i in range(k):\n",
    "    print(1-np.exp(-np.outer(F[:,i],F[:,i])).mean())"
   ]
  },
  {
   "cell_type": "code",
   "execution_count": null,
   "id": "155ab512",
   "metadata": {},
   "outputs": [],
   "source": [
    "for i in range(k):\n",
    "    data = F[:,i]\n",
    "    fig, ax = plt.subplots(1,1)\n",
    "    x = np.linspace(1, data.max(),100)\n",
    "    a,loc,scale = powerlaw.fit(data)\n",
    "    powerlaw_rv = powerlaw(a,loc,scale)\n",
    "    y = powerlaw_rv.pdf(x)\n",
    "    ax.plot(x,y,label='powerlaw pdf')\n",
    "    powerlaw_test = stats.kstest(data, stats.powerlaw.cdf, args=(a, loc, scale))\n",
    "\n",
    "    loc,scale = expon.fit(data)\n",
    "    exp_rv = expon(loc=loc,scale=scale)\n",
    "    y = exp_rv.pdf(x)\n",
    "    ax.plot(x,y,label='expon pdf')\n",
    "    # evaluate lognormal distribution\n",
    "    exp_test = stats.kstest(data, stats.expon.cdf, args=(loc,scale))\n",
    "    if exp_test.statistic < powerlaw_test.statistic:\n",
    "        print(\"Exp distribution is the best fit.\",(loc,scale))\n",
    "    else:\n",
    "        print(\"Powerlaw distribution is the best fit.\\n\",(a, loc, scale),f\"\\nmean = {powerlaw_rv.mean()}, median = {powerlaw_rv.median()}\")\n",
    "    \n",
    "    ax.hist(data, density=True, bins='auto', histtype='stepfilled', alpha=0.2,label=\"hist\")\n",
    "    ax.set_xlim([x[0], x[-1]])\n",
    "    ax.set_ylim([0, 0.1])\n",
    "    ax.legend(loc='best', frameon=False)\n",
    "    \n",
    "    plt.show()\n",
    "    #sns.lineplot(x=x,y=y,ax=axs[0])\n",
    "    #sns.histplot(data=F[:,i],stat=\"probability\",ax=axs[0])"
   ]
  },
  {
   "cell_type": "markdown",
   "id": "4a69f413",
   "metadata": {},
   "source": [
    "### Now we generate a random bipartite graph, with power law degree distribution"
   ]
  },
  {
   "cell_type": "code",
   "execution_count": null,
   "id": "4b590275",
   "metadata": {},
   "outputs": [],
   "source": [
    "k = 5\n",
    "B_sizes = powerlaw.rvs(a=0.5,loc=20,scale=1000,size=k).astype(int)\n",
    "print(B_sizes)\n",
    "sns.displot(data=B_sizes,stat=\"probability\")"
   ]
  },
  {
   "cell_type": "code",
   "execution_count": null,
   "id": "c8908b36",
   "metadata": {},
   "outputs": [],
   "source": [
    "total = np.sum(B_sizes)\n",
    "total_a = 0\n",
    "A_sizes = np.random.randint(1,k,int(total/k))\n",
    "while (total - total_a > k):\n",
    "    A_sizes = np.append(A_sizes,[np.random.randint(1,k)])\n",
    "    total_a = np.sum(A_sizes)\n",
    "# B_sizes = powerlaw.rvs(a=0.3,loc=A_sizes.min(),scale=total,size=2).astype(int)\n",
    "if A_sizes.sum() < B_sizes.sum():\n",
    "    A_sizes = np.append(A_sizes,[total - np.sum(A_sizes)])"
   ]
  },
  {
   "cell_type": "code",
   "execution_count": null,
   "id": "9a19135e",
   "metadata": {},
   "outputs": [],
   "source": [
    "A_sizes[-1]"
   ]
  },
  {
   "cell_type": "code",
   "execution_count": null,
   "id": "d564c0c5",
   "metadata": {},
   "outputs": [],
   "source": [
    "A_sizes.sum(),B_sizes.sum()"
   ]
  },
  {
   "cell_type": "code",
   "execution_count": null,
   "id": "2bc8505a",
   "metadata": {},
   "outputs": [],
   "source": [
    "assert np.sum(B_sizes) == np.sum(A_sizes)"
   ]
  },
  {
   "cell_type": "code",
   "execution_count": null,
   "id": "faf2e27c",
   "metadata": {},
   "outputs": [],
   "source": [
    "G = bipartite.configuration_model(A_sizes.astype(int),B_sizes.astype(int),create_using=nx.Graph() )\n",
    "top_nodes = {n for n, d in G.nodes(data=True) if d[\"bipartite\"] == 0}\n",
    "bottom_nodes = set(G) - top_nodes\n",
    "pos = nx.bipartite_layout(G, top_nodes)\n",
    "nx.draw(G,pos=pos)"
   ]
  },
  {
   "cell_type": "code",
   "execution_count": null,
   "id": "4695fffe",
   "metadata": {},
   "outputs": [],
   "source": [
    "bottom_nodes"
   ]
  },
  {
   "cell_type": "code",
   "execution_count": null,
   "id": "f969d388",
   "metadata": {},
   "outputs": [],
   "source": [
    "with open(\"bipartite_powerlaw.txt\",'w') as f:\n",
    "    for node in bottom_nodes:\n",
    "        group = [str(n) for n in G.neighbors(node)]\n",
    "        str_group = ' '.join(group) + \"\\n\"\n",
    "        f.write(str_group)"
   ]
  },
  {
   "cell_type": "code",
   "execution_count": null,
   "id": "b50cb210",
   "metadata": {},
   "outputs": [],
   "source": [
    "probs = [str(round(i,2)) for i in np.random.rand(k)]\n",
    "str_probs = \",\".join(probs)\n",
    "lambdas = [str(round(i,2)) for i in np.random.rand(k)]\n",
    "str_lambdas = \",\".join(lambdas)\n",
    "## -i:input_filename, -a:powerlaw_coeff, -c:powerlaw_coeff, -o:output_filename\n",
    "subprocess.run([\"../src/agmgen\",\"-i:bipartite_powerlaw.txt\", \"-a:0.6\", \"-c:1.3\", \"-o:agm_net.txt\", \"-l:%s\"%str_lambdas, \"-p:%s\"%str_probs])"
   ]
  },
  {
   "cell_type": "code",
   "execution_count": null,
   "id": "a314c9e0",
   "metadata": {},
   "outputs": [],
   "source": [
    "G = nx.read_edgelist(\"agm_net.txt\",create_using=nx.Graph, nodetype = int, edgetype=int, data=((\"weight\", float),))\n",
    "G = nx.relabel.convert_node_labels_to_integers(G, first_label=0, ordering='default') "
   ]
  },
  {
   "cell_type": "code",
   "execution_count": null,
   "id": "64bffe35",
   "metadata": {},
   "outputs": [],
   "source": [
    "F = bc.train_efficient(G, k, iterations = 3)"
   ]
  },
  {
   "cell_type": "code",
   "execution_count": null,
   "id": "2bf3a172",
   "metadata": {},
   "outputs": [],
   "source": [
    "for i in range(k):\n",
    "    data = F[:,i]\n",
    "    fig, ax = plt.subplots(1,1)\n",
    "    x = np.linspace(1, data.max(),100)\n",
    "    a,loc,scale = powerlaw.fit(data)\n",
    "    powerlaw_rv = powerlaw(a,loc,scale)\n",
    "    y = powerlaw_rv.pdf(x)\n",
    "    ax.plot(x,y,label='powerlaw pdf')\n",
    "    powerlaw_test = stats.kstest(data, stats.powerlaw.cdf, args=(a, loc, scale))\n",
    "\n",
    "    loc,scale = expon.fit(data)\n",
    "    exp_rv = expon(loc=loc,scale=scale)\n",
    "    y = exp_rv.pdf(x)\n",
    "    ax.plot(x,y,label='expon pdf')\n",
    "    # evaluate lognormal distribution\n",
    "    exp_test = stats.kstest(data, stats.expon.cdf, args=(loc,scale))\n",
    "    if exp_test.statistic < powerlaw_test.statistic:\n",
    "        print(\"Exp distribution is the best fit.\",(loc,scale))\n",
    "    else:\n",
    "        print(\"Powerlaw distribution is the best fit.\\n\",(a, loc, scale),f\"\\nmean = {powerlaw_rv.mean()}, median = {powerlaw_rv.median()}\")\n",
    "    \n",
    "    ax.hist(data, density=True, bins='auto', histtype='stepfilled', alpha=0.2,label=\"hist\")\n",
    "    ax.set_xlim([x[0], x[-1]])\n",
    "    ax.set_ylim([0, 0.8])\n",
    "    ax.legend(loc='best', frameon=False)\n",
    "    \n",
    "    plt.show()\n",
    "    #sns.lineplot(x=x,y=y,ax=axs[0])\n",
    "    #sns.histplot(data=F[:,i],stat=\"probability\",ax=axs[0])"
   ]
  },
  {
   "cell_type": "code",
   "execution_count": null,
   "id": "ab0753ba",
   "metadata": {},
   "outputs": [],
   "source": [
    "from attrAgm import *\n",
    "k = 3\n",
    "WC = np.random.rand(2*k,4)\n",
    "benchmark_instance = attrAGM(weight_centers=WC)\n",
    "G,Y,E,M = benchmark_instance.generate_benchmark(n_steps=10)\n",
    "nx.write_weighted_edgelist(G,'net.txt',delimiter=',')"
   ]
  },
  {
   "cell_type": "code",
   "execution_count": null,
   "id": "09a4f9b8-47c4-40b9-8460-eef4c805fe86",
   "metadata": {},
   "outputs": [],
   "source": [
    "F_init = bc.train_efficient(G, k, iterations = 40, display_loss=True, use_line_search=True)"
   ]
  },
  {
   "cell_type": "code",
   "execution_count": null,
   "id": "67a86016-8761-404d-b4aa-f2c6c9bace3a",
   "metadata": {},
   "outputs": [],
   "source": [
    "F_init"
   ]
  },
  {
   "cell_type": "code",
   "execution_count": null,
   "id": "1b1fe720-b4ab-4d95-b55a-715b40c628d1",
   "metadata": {},
   "outputs": [],
   "source": [
    "# from attrAgmFit import *\n",
    "A = benchmark_instance.radius * benchmark_instance.att_centers\n",
    "estimator  = attrAgmFit( MinVal=0,\n",
    "                         MaxVal=1000,\n",
    "                         num_communities = k,\n",
    "                         update_F_iterations = 1,\n",
    "                         update_F_lr=0.005,\n",
    "                         display_loss=True, \n",
    "                         use_line_search=False,\n",
    "                         line_search_Alpha=0.05,\n",
    "                         line_search_Beta=0.3,\n",
    "                         line_search_MaxIter=5\n",
    "                        )"
   ]
  },
  {
   "cell_type": "code",
   "execution_count": null,
   "id": "315eeb2b-ef39-4426-8fd6-f065dfe1784b",
   "metadata": {},
   "outputs": [],
   "source": [
    "F,A,B = estimator.fit_MLE(G,Y,iterations=15, F_init=F_init)"
   ]
  },
  {
   "cell_type": "code",
   "execution_count": null,
   "id": "8cbfb92d-c30d-4889-8462-b2f98bcaad7e",
   "metadata": {},
   "outputs": [],
   "source": [
    "F.shape,A.shape,B.shape"
   ]
  },
  {
   "cell_type": "code",
   "execution_count": null,
   "id": "59c26e54-bf1c-4d3b-ae25-8a72a3e77343",
   "metadata": {},
   "outputs": [],
   "source": [
    "F"
   ]
  },
  {
   "cell_type": "code",
   "execution_count": null,
   "id": "eb07eb1c-0cb1-466f-ab88-6b42170ee33e",
   "metadata": {},
   "outputs": [],
   "source": [
    "plt.scatter(A[:,0],A[:,1])"
   ]
  },
  {
   "cell_type": "code",
   "execution_count": null,
   "id": "0674bfa2-c723-4510-bb93-d209b2d69eb9",
   "metadata": {},
   "outputs": [],
   "source": [
    "attrAGM().gen_bipartite_net(num_nodes=300,n_clusters=3,bipartite_prob=0.25)\n",
    "G,_,M = attrAGM().generate_network(\"bipartite.txt\",\"agm.txt\")\n",
    "G,Y,E,M = attrAGM().generate_benchmark(n_steps=15)"
   ]
  },
  {
   "cell_type": "code",
   "execution_count": null,
   "id": "228de7cc",
   "metadata": {},
   "outputs": [],
   "source": [
    "M[:5,:]"
   ]
  },
  {
   "cell_type": "code",
   "execution_count": null,
   "id": "4f8c2f2a-8cc1-4ad6-a602-a33700f8c308",
   "metadata": {},
   "outputs": [],
   "source": [
    "for i in range(5):\n",
    "    print(G.nodes[i][\"membership\"])"
   ]
  },
  {
   "cell_type": "code",
   "execution_count": null,
   "id": "91dd3f4d-f0b3-4bdb-b5a9-f15ce8d794ea",
   "metadata": {},
   "outputs": [],
   "source": [
    "plt.scatter(Y[:,0],Y[:,1])"
   ]
  },
  {
   "cell_type": "code",
   "execution_count": null,
   "id": "cefcc9e2-5341-4d89-a824-e0ab08532797",
   "metadata": {},
   "outputs": [],
   "source": [
    "G.edges[0,1]"
   ]
  },
  {
   "cell_type": "code",
   "execution_count": null,
   "id": "affc5390-d4b1-4124-8701-8f646c7a5bdc",
   "metadata": {},
   "outputs": [],
   "source": [
    "pi = np.ones(F.shape[1])*np.random.rand(3)"
   ]
  },
  {
   "cell_type": "code",
   "execution_count": null,
   "id": "01c56ff1-c094-49fd-8d3b-821e69f708b3",
   "metadata": {},
   "outputs": [],
   "source": [
    "# %%timeit\n",
    "# res = (pi**F)*((1-pi)**(1-F))"
   ]
  },
  {
   "cell_type": "code",
   "execution_count": null,
   "id": "3a07c2aa-69ad-401d-90ef-3ae12087816a",
   "metadata": {},
   "outputs": [],
   "source": [
    "# %%timeit\n",
    "# res2 = np.zeros(F.shape)\n",
    "# for i in range(res2.shape[0]):\n",
    "#     for h in range(res2.shape[1]):\n",
    "#         res2[i][h] = (pi[h]**F[i][h])*((1-pi[h])**(1-F[i,h]))\n",
    "# #(res == res2).all()"
   ]
  },
  {
   "cell_type": "code",
   "execution_count": null,
   "id": "1d290318-2333-40b2-a1b4-b356be3fd9fa",
   "metadata": {},
   "outputs": [],
   "source": [
    "from banerjee_overlapping import *\n",
    "from scipy.spatial import distance\n",
    "M,A,alphas = banerjee_overlapping(dist_func = distance.sqeuclidean).fit(Y,iterations=10,n_clus=3)"
   ]
  },
  {
   "cell_type": "code",
   "execution_count": null,
   "id": "5537db35-db87-4802-b9fa-659edbf03837",
   "metadata": {},
   "outputs": [],
   "source": [
    "plt.scatter(A[:,0],A[:,1])"
   ]
  },
  {
   "cell_type": "code",
   "execution_count": null,
   "id": "488914a7-a5bd-4eac-895e-01c4ae1be12e",
   "metadata": {},
   "outputs": [],
   "source": [
    "M,A,alphas = banerjee_overlapping(dist_func = distance.euclidean).fit_relaxed(Y,iterations=10,n_clus=3)\n",
    "plt.scatter(A[:,0],A[:,1])"
   ]
  },
  {
   "cell_type": "code",
   "execution_count": null,
   "id": "46715450-5706-43c9-aa58-710cf326c1f7",
   "metadata": {},
   "outputs": [],
   "source": [
    "M.mean(axis=0),(M>=0).all(),(M<=1).all()"
   ]
  },
  {
   "cell_type": "code",
   "execution_count": null,
   "id": "f8751381",
   "metadata": {},
   "outputs": [],
   "source": [
    "\"\"\"\n",
    "Optionally uncomment bellow lines for reading from a file\n",
    "\"\"\"\n",
    "M = np.load('membership_matrix.npy')\n",
    "Y = np.load('attr.npy')\n",
    "df = pd.read_csv('net.txt',names=[\"u\",\"v\",\"w\"])\n",
    "G = nx.Graph()\n",
    "for index, row in df.iterrows():\n",
    "    G.add_edge(row[\"u\"],row[\"v\"])\n",
    "    list_str_w = row[\"w\"][1:-1].strip(\" \").split(\" \")\n",
    "    G[row.u][row.v][\"weight\"] = np.array([x for x in list_str_w if x]).astype(np.float64)\n",
    "df.head()"
   ]
  },
  {
   "cell_type": "code",
   "execution_count": null,
   "id": "fe30067b",
   "metadata": {},
   "outputs": [],
   "source": [
    "G.number_of_nodes(),Y.shape[0],M.shape[0]"
   ]
  },
  {
   "cell_type": "code",
   "execution_count": null,
   "id": "989ce30c",
   "metadata": {},
   "outputs": [],
   "source": [
    "np.random.rand(10).reshape((5,2)).sum(axis=0)"
   ]
  },
  {
   "cell_type": "code",
   "execution_count": null,
   "id": "7e8b56dc",
   "metadata": {},
   "outputs": [],
   "source": [
    "# %%timeit\n",
    "\"\"\"\n",
    "PYTHON TAKES 19.3 s ± 374 ms per loop (mean ± std. dev. of 7 runs, 1 loop each)\n",
    "JULIA TAKES 3.422 s ± 23.851 ms\n",
    "\"\"\"\n",
    "estimator  = attrAgmFit( MinVal=0,\n",
    "                         MaxVal=1000,\n",
    "                         num_communities = 3,\n",
    "                         update_F_iterations = 1,\n",
    "                         update_F_lr=0.005,\n",
    "                         display_loss=True, \n",
    "                         use_line_search=False,\n",
    "                         line_search_Alpha=0.05,\n",
    "                         line_search_Beta=0.3,\n",
    "                         line_search_MaxIter=5\n",
    "                        )\n",
    "F,A,B = estimator.fit_MLE(G,Y,iterations=15)"
   ]
  }
 ],
 "metadata": {
  "kernelspec": {
   "display_name": "Python 3 (ipykernel)",
   "language": "python",
   "name": "python3"
  },
  "language_info": {
   "codemirror_mode": {
    "name": "ipython",
    "version": 3
   },
   "file_extension": ".py",
   "mimetype": "text/x-python",
   "name": "python",
   "nbconvert_exporter": "python",
   "pygments_lexer": "ipython3",
   "version": "3.11.4"
  }
 },
 "nbformat": 4,
 "nbformat_minor": 5
}
