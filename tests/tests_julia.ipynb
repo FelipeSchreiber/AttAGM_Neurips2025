{
 "cells": [
  {
   "cell_type": "code",
   "execution_count": 2,
   "id": "7e58fbc0",
   "metadata": {},
   "outputs": [
    {
     "name": "stderr",
     "output_type": "stream",
     "text": [
      "WARNING: replacing module BigClam.\n",
      "WARNING: replacing module attrAgmFit.\n",
      "\u001b[36m\u001b[1m[ \u001b[22m\u001b[39m\u001b[36m\u001b[1mInfo: \u001b[22m\u001b[39mRunning `conda install -y -c anaconda conda` in root environment\n"
     ]
    },
    {
     "name": "stdout",
     "output_type": "stream",
     "text": [
      "Retrieving notices: done\n",
      "Channels:\n",
      " - anaconda\n",
      " - defaults\n",
      " - conda-forge\n",
      "Platform: linux-64\n",
      "Collecting package metadata (repodata.json): ...working... done\n",
      "Solving environment: ...working... done\n",
      "\n",
      "## Package Plan ##\n",
      "\n",
      "  environment location: /home/lig02im-12/.julia/conda/3/x86_64\n",
      "\n",
      "  added / updated specs:\n",
      "    - conda\n",
      "\n",
      "\n",
      "The following packages will be SUPERSEDED by a higher-priority channel:\n",
      "\n",
      "  certifi            conda-forge/noarch::certifi-2025.1.31~ --> anaconda/linux-64::certifi-2025.1.31-py312h06a4308_0 \n",
      "\n",
      "\n",
      "\n",
      "Downloading and Extracting Packages: ...working... done\n",
      "Preparing transaction: | "
     ]
    },
    {
     "name": "stderr",
     "output_type": "stream",
     "text": [
      "\n",
      "\n",
      "==> WARNING: A newer version of conda exists. <==\n",
      "    current version: 24.11.3\n",
      "    latest version: 25.1.1\n",
      "\n",
      "Please update conda by running\n",
      "\n",
      "    $ conda update -n base -c anaconda conda\n",
      "\n",
      "\n"
     ]
    },
    {
     "name": "stdout",
     "output_type": "stream",
     "text": [
      "done\n",
      "Verifying transaction: done\n",
      "Executing transaction: done\n"
     ]
    },
    {
     "name": "stderr",
     "output_type": "stream",
     "text": [
      "\u001b[36m\u001b[1m[ \u001b[22m\u001b[39m\u001b[36m\u001b[1mInfo: \u001b[22m\u001b[39mRunning `conda install -y -c conda-forge 'libstdcxx-ng>=3.4,<13.0'` in root environment\n"
     ]
    },
    {
     "name": "stdout",
     "output_type": "stream",
     "text": [
      "Channels:\n",
      " - conda-forge\n",
      " - defaults\n",
      " - anaconda\n",
      "Platform: linux-64\n",
      "Collecting package metadata (repodata.json): ...working... done\n",
      "Solving environment: ...working... done\n",
      "\n",
      "## Package Plan ##\n",
      "\n",
      "  environment location: /home/lig02im-12/.julia/conda/3/x86_64\n",
      "\n",
      "  added / updated specs:\n",
      "    - libstdcxx-ng[version='>=3.4,<13.0']\n",
      "\n",
      "\n",
      "The following packages will be SUPERSEDED by a higher-priority channel:\n",
      "\n",
      "  certifi            anaconda/linux-64::certifi-2025.1.31-~ --> conda-forge/noarch::certifi-2025.1.31-pyhd8ed1ab_0 \n",
      "\n",
      "\n",
      "\n",
      "Downloading and Extracting Packages: ...working... done\n",
      "Preparing transaction: - "
     ]
    },
    {
     "name": "stderr",
     "output_type": "stream",
     "text": [
      "\n",
      "\n",
      "==> WARNING: A newer version of conda exists. <==\n",
      "    current version: 24.11.3\n",
      "    latest version: 25.1.1\n",
      "\n",
      "Please update conda by running\n",
      "\n",
      "    $ conda update -n base -c anaconda conda\n",
      "\n",
      "\n"
     ]
    },
    {
     "name": "stdout",
     "output_type": "stream",
     "text": [
      "done\n",
      "Verifying transaction: done\n",
      "Executing transaction: done\n"
     ]
    },
    {
     "ename": "LoadError",
     "evalue": "LoadError: UndefVarError: `AttrAgmFit` not defined in `Main.attrAgmFitBinary`\nSuggestion: check for spelling errors or missing imports.\nin expression starting at /home/lig02im-12/FelipeSchreiber/LearningOnGraphs/attrAGM/src/attrAgmFitBinary.jl:3",
     "output_type": "error",
     "traceback": [
      "LoadError: UndefVarError: `AttrAgmFit` not defined in `Main.attrAgmFitBinary`\nSuggestion: check for spelling errors or missing imports.\nin expression starting at /home/lig02im-12/FelipeSchreiber/LearningOnGraphs/attrAGM/src/attrAgmFitBinary.jl:3",
      "",
      "Stacktrace:",
      " [1] top-level scope",
      "   @ ~/FelipeSchreiber/LearningOnGraphs/attrAGM/src/attrAgmFitBinary.jl:60",
      " [2] include(fname::String)",
      "   @ Main ./sysimg.jl:38",
      " [3] top-level scope",
      "   @ In[2]:10"
     ]
    }
   ],
   "source": [
    "include(\"../src/banerjee_overlapping.jl\")\n",
    "include(\"../src/BigClam.jl\")\n",
    "include(\"../src/attrAgmFit.jl\")\n",
    "include(\"../src/attrAgmFitMixture.jl\")\n",
    "include(\"../src/scores.jl\")\n",
    "include(\"../src/genAGM.jl\")\n",
    "include(\"../src/genAttrAGM.jl\")\n",
    "include(\"../src/utils.jl\")\n",
    "include(\"../src/conductanceComs.jl\")\n",
    "include(\"../src/attrAgmFitBinary.jl\")\n",
    "using .attrAgmFitBinary\n",
    "using .BigClam\n",
    "using .attrAgmFit\n",
    "using .attrAgmFitMixture\n",
    "using .genAGM\n",
    "using .genAttrAGM\n",
    "using .utils\n",
    "using .conductanceComs"
   ]
  },
  {
   "cell_type": "code",
   "execution_count": 3,
   "id": "1f821708",
   "metadata": {},
   "outputs": [],
   "source": [
    "using CSV\n",
    "using DataFrames\n",
    "using Distances\n",
    "using Statistics\n",
    "using NPZ\n",
    "using PyPlot\n",
    "using Graphs\n",
    "using Random: bitrand\n",
    "using BenchmarkTools\n",
    "using Printf"
   ]
  },
  {
   "cell_type": "code",
   "execution_count": 4,
   "id": "4d245047",
   "metadata": {},
   "outputs": [],
   "source": [
    "Base.Libc.flush_cstdio()"
   ]
  },
  {
   "cell_type": "code",
   "execution_count": 5,
   "id": "084c4046",
   "metadata": {},
   "outputs": [
    {
     "data": {
      "image/png": "[encoded data removed]",
      "text/plain": [
       "Figure(PyObject <Figure size 640x480 with 1 Axes>)"
      ]
     },
     "metadata": {},
     "output_type": "display_data"
    },
    {
     "data": {
      "text/plain": [
       "PyObject <matplotlib.collections.PathCollection object at 0x7f6a7a3894d0>"
      ]
     },
     "execution_count": 5,
     "metadata": {},
     "output_type": "execute_result"
    }
   ],
   "source": [
    "M = iszero.( npzread(\"membership_matrix.npy\") )\n",
    "Y = npzread(\"attr.npy\")\n",
    "scatter(Y[:,1],Y[:,2],color=\"red\")"
   ]
  },
  {
   "cell_type": "code",
   "execution_count": 6,
   "id": "0f5f67e9",
   "metadata": {},
   "outputs": [
    {
     "data": {
      "text/plain": [
       "((14603, 3), (14603, 2))"
      ]
     },
     "execution_count": 6,
     "metadata": {},
     "output_type": "execute_result"
    }
   ],
   "source": [
    "size(M),size(Y)"
   ]
  },
  {
   "cell_type": "code",
   "execution_count": 7,
   "id": "313a0d8b",
   "metadata": {},
   "outputs": [
    {
     "name": "stdout",
     "output_type": "stream",
     "text": [
      "Not ok\n"
     ]
    }
   ],
   "source": [
    "arr = CSV.read(\"net.txt\", DataFrame,delim=\",\",header=[\"u\", \"v\", \"w\"])\n",
    "using_exponential_weights = false\n",
    "if (eltype(arr[!,:w]) == String)\n",
    "    arr = DataFrames.transform(arr, [:w] => ByRow( w ->  parse.(Float64, split(chop(w; head=1, tail=1),)) )  => :W)\n",
    "    println(\"Ok\")\n",
    "    using_exponential_weights = false\n",
    "else\n",
    "    using_exponential_weights = true\n",
    "    println(\"Not ok\")\n",
    "end"
   ]
  },
  {
   "cell_type": "code",
   "execution_count": 8,
   "id": "eef2a8b5",
   "metadata": {},
   "outputs": [
    {
     "data": {
      "text/plain": [
       "14603×3 Matrix{Float64}:\n",
       " 0.0424136  0.494157   0.462186\n",
       " 0.202721   0.563672   0.205356\n",
       " 0.316985   0.0975655  0.961873\n",
       " 0.201061   0.091379   0.0578059\n",
       " 0.341322   0.964138   0.515806\n",
       " 0.777911   0.690561   0.774081\n",
       " 0.492491   0.217638   0.588833\n",
       " 0.758924   0.426384   0.325311\n",
       " 0.909439   0.350067   0.0400972\n",
       " 0.80212    0.86747    0.27476\n",
       " 0.387629   0.304741   0.00823545\n",
       " 0.198676   0.295777   0.598877\n",
       " 0.0899844  0.436086   0.228514\n",
       " ⋮                     \n",
       " 0.962001   0.334838   0.0513425\n",
       " 0.714999   0.470741   0.858344\n",
       " 0.24345    0.800545   0.315512\n",
       " 0.442396   0.487371   0.82808\n",
       " 0.0351759  0.569871   0.00838216\n",
       " 0.888957   0.557751   0.443807\n",
       " 0.481062   0.843599   0.383319\n",
       " 0.142665   0.766542   0.447499\n",
       " 0.316065   0.764152   0.419032\n",
       " 0.80251    0.955646   0.12316\n",
       " 0.150619   0.65164    0.410311\n",
       " 0.935499   0.746085   0.824237"
      ]
     },
     "execution_count": 8,
     "metadata": {},
     "output_type": "execute_result"
    }
   ],
   "source": [
    "N,C = size(M)\n",
    "K = C\n",
    "# C+=1\n",
    "F_init = rand(N, C)"
   ]
  },
  {
   "cell_type": "code",
   "execution_count": null,
   "id": "3b5465cd",
   "metadata": {},
   "outputs": [],
   "source": [
    "#F = BigClam_fit(arr,3)\n",
    "vertices_set = union!( Set(arr[:,\"u\"]), Set(arr[:,\"v\"]) )\n",
    "N = length(vertices_set)\n",
    "G = SimpleGraph{Int64}(N)\n",
    "for row in eachrow(arr)\n",
    "    add_edge!(G,row.u,row.v)\n",
    "end\n",
    "F = BigClam.fit(G, C, 100, 0.005, true, F_init, true, 0.001)\n",
    "eps=10^-8\n",
    "Thres = sqrt(-log(1-eps))\n",
    "\n",
    "# n_edges = ne(G)\n",
    "# n_vertices = nv(G)\n",
    "# Thres = 2*n_edges/( n_vertices * (n_vertices - 1) )\n",
    "\n",
    "F_bin = F.>Thres\n",
    "avg_score(M,F_bin,f1_score),avg_score(M,F_bin,normalized_mutual_info_score),avg_score(M,F_bin,adjusted_rand_score)"
   ]
  },
  {
   "cell_type": "code",
   "execution_count": null,
   "id": "492b333b",
   "metadata": {
    "scrolled": true
   },
   "outputs": [],
   "source": [
    "eltype(arr.W[1]),eltype(arr.w[1])"
   ]
  },
  {
   "cell_type": "code",
   "execution_count": null,
   "id": "c06eabcd",
   "metadata": {},
   "outputs": [],
   "source": [
    "G"
   ]
  },
  {
   "cell_type": "code",
   "execution_count": null,
   "id": "d814908e",
   "metadata": {},
   "outputs": [],
   "source": [
    "d = Dict{Tuple{Int64,Int64},Vector{Float64}}()\n",
    "## assuming undirected graph\n",
    "u = 0 \n",
    "v = 0\n",
    "for row in eachrow(arr)\n",
    "    if row.u > row.v\n",
    "        u, v = row.v, row.u\n",
    "    else\n",
    "        u, v = row.u, row.v\n",
    "    end\n",
    "    if using_exponential_weights\n",
    "        d[(u,v)] = [row.w]\n",
    "        d[(v,u)] = [row.w]\n",
    "    else\n",
    "        d[(u,v)] = row.W\n",
    "    end\n",
    "end"
   ]
  },
  {
   "cell_type": "code",
   "execution_count": null,
   "id": "a468d6b4",
   "metadata": {},
   "outputs": [],
   "source": [
    "N = 300\n",
    "K = 3\n",
    "D = 4   \n",
    "p = 0.3\n",
    "CmtyVV = utils.generate_bipartite_graph(N,K,nothing,p,nothing) #G(n,m,p)\n",
    "\n",
    "params = genAttrAGM.AttrAgmParams()\n",
    "params.agm_CProbV = [0.03,0.03,0.03]\n",
    "params.agm_PNoCom = -1\n",
    "params.agm_use_MCMC = true\n",
    "params.agm_n_iter_MCMC = 1000\n",
    "params.gen_edge_data_from_exp = true\n",
    "params.weight_centers = rand(2*K,D)\n",
    "params.n_clusters = K\n",
    "println(\"Starting AGM\")\n",
    "n_cmty = size(CmtyVV)[1]\n",
    "lambdas = collect(range(1,100,length=n_cmty+1))\n",
    "params.lambdas = lambdas\n",
    "G,d,Y,M = genAttrAGM.genAttrAgm(CmtyVV,params)\n",
    "F_init = rand(N, K)"
   ]
  },
  {
   "cell_type": "code",
   "execution_count": null,
   "id": "21dd0ae1-78e7-47af-a138-8c1c29eb3fae",
   "metadata": {},
   "outputs": [],
   "source": [
    "cm = conductanceComs.CommunityMembership(nv(G),100)\n",
    "conductanceComs.initialize_communities(G,cm,100)"
   ]
  },
  {
   "cell_type": "code",
   "execution_count": null,
   "id": "0e588e6b-de47-4a7b-b4ae-15ee5812bc24",
   "metadata": {},
   "outputs": [],
   "source": [
    "cm.F"
   ]
  },
  {
   "cell_type": "code",
   "execution_count": null,
   "id": "eb09843b-8e35-4825-8153-c754a5253ff5",
   "metadata": {},
   "outputs": [],
   "source": []
  },
  {
   "cell_type": "code",
   "execution_count": 13,
   "id": "598b7708",
   "metadata": {},
   "outputs": [
    {
     "data": {
      "text/plain": [
       "Dict{Tuple{Int64, Int64}, Vector{Float64}} with 1460 entries:\n",
       "  (111, 2)   => [0.00899907]\n",
       "  (225, 291) => [0.182562]\n",
       "  (98, 184)  => [0.120029]\n",
       "  (83, 138)  => [0.0789018]\n",
       "  (170, 158) => [0.0201857]\n",
       "  (260, 143) => [0.478138]\n",
       "  (265, 35)  => [0.00433547]\n",
       "  (16, 99)   => [0.699159]\n",
       "  (105, 266) => [0.0779001]\n",
       "  (16, 201)  => [0.129161]\n",
       "  (180, 202) => [0.00488896]\n",
       "  (223, 183) => [0.0135426]\n",
       "  (216, 208) => [0.00145343]\n",
       "  (196, 98)  => [1.28052]\n",
       "  (198, 224) => [0.00932079]\n",
       "  (192, 299) => [0.0161354]\n",
       "  (171, 71)  => [0.0276291]\n",
       "  (70, 4)    => [0.0666987]\n",
       "  (260, 51)  => [0.053342]\n",
       "  (154, 187) => [0.0957991]\n",
       "  (119, 197) => [0.248339]\n",
       "  (56, 245)  => [0.49391]\n",
       "  (8, 141)   => [0.00443334]\n",
       "  (193, 281) => [0.00359927]\n",
       "  (207, 259) => [0.153687]\n",
       "  ⋮          => ⋮"
      ]
     },
     "execution_count": 13,
     "metadata": {},
     "output_type": "execute_result"
    }
   ],
   "source": [
    "d"
   ]
  },
  {
   "cell_type": "code",
   "execution_count": 14,
   "id": "105e72ed",
   "metadata": {},
   "outputs": [
    {
     "data": {
      "text/plain": [
       "{300, 730} undirected simple Int64 graph"
      ]
     },
     "execution_count": 14,
     "metadata": {},
     "output_type": "execute_result"
    }
   ],
   "source": [
    "G"
   ]
  },
  {
   "cell_type": "code",
   "execution_count": 15,
   "id": "c962468e",
   "metadata": {},
   "outputs": [
    {
     "name": "stdout",
     "output_type": "stream",
     "text": [
      "Elapsed time: 00h:00m:0.04s\n"
     ]
    },
    {
     "data": {
      "image/png": "[encoded data removed]",
      "text/plain": [
       "Figure(PyObject <Figure size 640x480 with 1 Axes>)"
      ]
     },
     "metadata": {},
     "output_type": "display_data"
    },
    {
     "data": {
      "text/plain": [
       "(0.6499792093317273, 0.1342634839645751, 0.17358685622253733)"
      ]
     },
     "execution_count": 15,
     "metadata": {},
     "output_type": "execute_result"
    }
   ],
   "source": [
    "start = time()\n",
    "F = BigClam.fit(G, K, 100, 0.005, true, F_init, false, 0.001)\n",
    "elapsed = time() - start\n",
    "(minutes, seconds) = fldmod(elapsed, 60)\n",
    "(hours, minutes) = fldmod(minutes, 60)\n",
    "@printf(\"Elapsed time: %02dh:%02dm:%0.2fs\\n\", hours, minutes, seconds)\n",
    "\n",
    "n_edges = ne(G)\n",
    "n_vertices = nv(G)\n",
    "Thres = 2*n_edges/( n_vertices * (n_vertices - 1) )\n",
    "\n",
    "F_bin = F.>Thres\n",
    "avg_score(M,F_bin,f1_score),avg_score(M,F_bin,normalized_mutual_info_score),avg_score(M,F_bin,adjusted_rand_score)"
   ]
  },
  {
   "cell_type": "code",
   "execution_count": 16,
   "id": "9d7f4ee0",
   "metadata": {},
   "outputs": [],
   "source": [
    "# F_init = F"
   ]
  },
  {
   "cell_type": "code",
   "execution_count": 17,
   "id": "293de20e",
   "metadata": {},
   "outputs": [
    {
     "name": "stdout",
     "output_type": "stream",
     "text": [
      "USING 1 thread(s)\n",
      "Elapsed time: 00h:00m:10.56s\n"
     ]
    },
    {
     "data": {
      "image/png": "[encoded data removed]",
      "text/plain": [
       "Figure(PyObject <Figure size 640x480 with 1 Axes>)"
      ]
     },
     "metadata": {},
     "output_type": "display_data"
    },
    {
     "data": {
      "text/plain": [
       "(0.7215056682561113, 0.23417083614051082, 0.28048010110522603)"
      ]
     },
     "execution_count": 17,
     "metadata": {},
     "output_type": "execute_result"
    }
   ],
   "source": [
    "\"\"\"\n",
    "PYTHON TAKES 19.3 s ± 374 ms per loop (mean ± std. dev. of 7 runs, 1 loop each)\n",
    "JULIA TAKES  4.388 s ± 332.737 ms (7 samples with 4 evaluations)\n",
    "@benchmark F,A,B = fit_MLE(G,Y,d,3,100,model) evals=4 samples=7 seconds=600\n",
    "\"\"\"\n",
    "\n",
    "model = attrAgmFit.AttrAgmFit()\n",
    "model.MaxVal = 100\n",
    "model.update_F_use_line_search = false\n",
    "model.update_F_use_riemmanian_grad = true\n",
    "model.display_ll = true\n",
    "\n",
    "start = time()\n",
    "\n",
    "F,A,B = attrAgmFit.fit_MLE(G,Y,d,K,100,model,F_init,0.001)\n",
    "\n",
    "elapsed = time() - start\n",
    "(minutes, seconds) = fldmod(elapsed, 60)\n",
    "(hours, minutes) = fldmod(minutes, 60)\n",
    "@printf(\"Elapsed time: %02dh:%02dm:%0.2fs\\n\", hours, minutes, seconds)\n",
    "\n",
    "eps=10^-8\n",
    "Thres = sqrt(-log(1-eps))\n",
    "    \n",
    "# n_edges = ne(G)\n",
    "# n_vertices = nv(G)\n",
    "# Thres = 2*n_edges/( n_vertices * (n_vertices - 1) )\n",
    "\n",
    "\n",
    "# Thres = 0.1\n",
    "F_bin = F.>Thres\n",
    "avg_score(M,F_bin,f1_score),avg_score(M,F_bin,normalized_mutual_info_score),avg_score(M,F_bin,adjusted_rand_score)"
   ]
  },
  {
   "cell_type": "code",
   "execution_count": 18,
   "id": "5c07f68f",
   "metadata": {},
   "outputs": [
    {
     "data": {
      "text/plain": [
       "(0.7050651062496667, 0.21525980851041185, 0.27026806141549925)"
      ]
     },
     "execution_count": 18,
     "metadata": {},
     "output_type": "execute_result"
    }
   ],
   "source": [
    "n_edges = ne(G)\n",
    "n_vertices = nv(G)\n",
    "Thres = 2*n_edges/( n_vertices * (n_vertices - 1) )\n",
    "\n",
    "F_bin = F.>Thres\n",
    "avg_score(M,F_bin,f1_score),avg_score(M,F_bin,normalized_mutual_info_score),avg_score(M,F_bin,adjusted_rand_score)"
   ]
  },
  {
   "cell_type": "code",
   "execution_count": 19,
   "id": "8997a61b",
   "metadata": {},
   "outputs": [
    {
     "data": {
      "text/plain": [
       "(0.7119740033834253, 0.2272311013132386, 0.2790739518058689)"
      ]
     },
     "execution_count": 19,
     "metadata": {},
     "output_type": "execute_result"
    }
   ],
   "source": [
    "Thres = median(F)\n",
    "F_bin = F.>Thres\n",
    "avg_score(M,F_bin,f1_score),avg_score(M,F_bin,normalized_mutual_info_score),avg_score(M,F_bin,adjusted_rand_score)"
   ]
  },
  {
   "cell_type": "code",
   "execution_count": 20,
   "id": "3fbc7fec",
   "metadata": {},
   "outputs": [
    {
     "name": "stdout",
     "output_type": "stream",
     "text": [
      "USING 1 thread(s)\n",
      "\n",
      "******************************************************************************\n",
      "This program contains Ipopt, a library for large-scale nonlinear optimization.\n",
      " Ipopt is released as open source code under the Eclipse Public License (EPL).\n",
      "         For more information visit https://github.com/coin-or/Ipopt\n",
      "******************************************************************************\n",
      "\n",
      "Elapsed time: 00h:00m:5.28s\n"
     ]
    },
    {
     "data": {
      "image/png": "[encoded data removed]",
      "text/plain": [
       "Figure(PyObject <Figure size 640x480 with 1 Axes>)"
      ]
     },
     "metadata": {},
     "output_type": "display_data"
    },
    {
     "data": {
      "text/plain": [
       "(0.6090468173541659, 0.004154036877595967, 0.00045748324836219605)"
      ]
     },
     "execution_count": 20,
     "metadata": {},
     "output_type": "execute_result"
    }
   ],
   "source": [
    "\"\"\"\n",
    "PYTHON TAKES 19.3 s ± 374 ms per loop (mean ± std. dev. of 7 runs, 1 loop each)\n",
    "JULIA TAKES  4.388 s ± 332.737 ms (7 samples with 4 evaluations)\n",
    "@benchmark F,A,B = fit_MLE(G,Y,d,3,100,model) evals=4 samples=7 seconds=600\n",
    "\"\"\"\n",
    "\n",
    "model = attrAgmFitMixture.AttrAgmFit()\n",
    "model.MaxVal = 100\n",
    "model.update_F_use_line_search = false\n",
    "model.update_F_use_riemmanian_grad = true\n",
    "model.display_ll = true\n",
    "\n",
    "start = time()\n",
    "\n",
    "F,A,B = attrAgmFitMixture.fit_MLE(G,Y,d,K,100,model,nothing,0.001)\n",
    "\n",
    "elapsed = time() - start\n",
    "(minutes, seconds) = fldmod(elapsed, 60)\n",
    "(hours, minutes) = fldmod(minutes, 60)\n",
    "@printf(\"Elapsed time: %02dh:%02dm:%0.2fs\\n\", hours, minutes, seconds)\n",
    "\n",
    "eps=10^-8\n",
    "Thres = sqrt(-log(1-eps))\n",
    "    \n",
    "# n_edges = ne(G)\n",
    "# n_vertices = nv(G)\n",
    "# Thres = 2*n_edges/( n_vertices * (n_vertices - 1) )\n",
    "\n",
    "\n",
    "# Thres = 0.1\n",
    "F_bin = F.>Thres\n",
    "avg_score(M,F_bin,f1_score),avg_score(M,F_bin,normalized_mutual_info_score),avg_score(M,F_bin,adjusted_rand_score)"
   ]
  },
  {
   "cell_type": "code",
   "execution_count": 21,
   "id": "4276b5bf",
   "metadata": {},
   "outputs": [
    {
     "data": {
      "text/plain": [
       "(0.6075162296593357, 0.004367663115046551, 0.002707740059414504)"
      ]
     },
     "execution_count": 21,
     "metadata": {},
     "output_type": "execute_result"
    }
   ],
   "source": [
    "n_edges = ne(G)\n",
    "n_vertices = nv(G)\n",
    "Thres = 2*n_edges/( n_vertices * (n_vertices - 1) )\n",
    "\n",
    "F_bin = F.>Thres\n",
    "avg_score(M,F_bin,f1_score),avg_score(M,F_bin,normalized_mutual_info_score),avg_score(M,F_bin,adjusted_rand_score)"
   ]
  },
  {
   "cell_type": "code",
   "execution_count": 22,
   "id": "9e63533b",
   "metadata": {},
   "outputs": [
    {
     "data": {
      "text/plain": [
       "(0.48922145016697954, 0.0030795115680078786, 0.0014616664344853968)"
      ]
     },
     "execution_count": 22,
     "metadata": {},
     "output_type": "execute_result"
    }
   ],
   "source": [
    "Thres = median(F)\n",
    "F_bin = F.>Thres\n",
    "avg_score(M,F_bin,f1_score),avg_score(M,F_bin,normalized_mutual_info_score),avg_score(M,F_bin,adjusted_rand_score)"
   ]
  },
  {
   "cell_type": "code",
   "execution_count": 23,
   "id": "ab3e2054",
   "metadata": {},
   "outputs": [
    {
     "data": {
      "text/plain": [
       "5×3 Matrix{Float64}:\n",
       " 0.942286  0.533384  0.972871\n",
       " 0.879389  0.077099  0.415316\n",
       " 0.528293  0.941243  0.14565\n",
       " 0.160487  0.625288  0.694261\n",
       " 0.824504  0.245627  0.695476"
      ]
     },
     "execution_count": 23,
     "metadata": {},
     "output_type": "execute_result"
    }
   ],
   "source": [
    "F[1:5,:]"
   ]
  },
  {
   "cell_type": "code",
   "execution_count": 24,
   "id": "0505ceed",
   "metadata": {},
   "outputs": [
    {
     "data": {
      "text/plain": [
       "3-element Vector{Float64}:\n",
       "  1.007233669851475\n",
       " 71.44327989185265\n",
       " 27.642028918629606"
      ]
     },
     "execution_count": 24,
     "metadata": {},
     "output_type": "execute_result"
    }
   ],
   "source": [
    "B"
   ]
  },
  {
   "cell_type": "code",
   "execution_count": 25,
   "id": "c271b998",
   "metadata": {},
   "outputs": [
    {
     "name": "stdout",
     "output_type": "stream",
     "text": [
      "USING 1 thread(s)\n",
      "Elapsed time: 00h:00m:0.43s\n"
     ]
    },
    {
     "data": {
      "image/png": "[encoded data removed]",
      "text/plain": [
       "Figure(PyObject <Figure size 640x480 with 1 Axes>)"
      ]
     },
     "metadata": {},
     "output_type": "display_data"
    },
    {
     "data": {
      "text/plain": [
       "(0.6091157940491472, 0.0, 0.0)"
      ]
     },
     "execution_count": 25,
     "metadata": {},
     "output_type": "execute_result"
    }
   ],
   "source": [
    "\"\"\"\n",
    "Traditional grad descent:\n",
    " 3.013 s ± 214.434 ms (7 samples with 4 evaluations)\n",
    "@benchmark F,A,B = fit_MLE(G,Y,d,3,100,model) evals=4 samples=7 seconds=600\n",
    "\"\"\"\n",
    "\n",
    "model.update_F_use_line_search = false\n",
    "model.update_F_use_riemmanian_grad = false\n",
    "model.display_ll = true\n",
    "\n",
    "start = time()\n",
    "\n",
    "F,A,B = attrAgmFitMixture.fit_MLE(G,Y,d,K,100,model,F_init,0.001)\n",
    "\n",
    "elapsed = time() - start\n",
    "(minutes, seconds) = fldmod(elapsed, 60)\n",
    "(hours, minutes) = fldmod(minutes, 60)\n",
    "@printf(\"Elapsed time: %02dh:%02dm:%0.2fs\\n\", hours, minutes, seconds)\n",
    "\n",
    "eps=10^-8\n",
    "Thres = sqrt(-log(1-eps))\n",
    "    \n",
    "# n_edges = ne(G)\n",
    "# n_vertices = nv(G)\n",
    "# Thres = 2*n_edges/( n_vertices * (n_vertices - 1) )\n",
    "\n",
    "F_bin = F.>Thres\n",
    "avg_score(M,F_bin,f1_score),avg_score(M,F_bin,normalized_mutual_info_score),avg_score(M,F_bin,adjusted_rand_score)"
   ]
  },
  {
   "cell_type": "code",
   "execution_count": 26,
   "id": "c7b996d8",
   "metadata": {},
   "outputs": [
    {
     "data": {
      "text/plain": [
       "(0.6499792093317273, 0.1342634839645751, 0.17358685622253733)"
      ]
     },
     "execution_count": 26,
     "metadata": {},
     "output_type": "execute_result"
    }
   ],
   "source": [
    "n_edges = ne(G)\n",
    "n_vertices = nv(G)\n",
    "Thres = 2*n_edges/( n_vertices * (n_vertices - 1) )\n",
    "\n",
    "F_bin = F.>Thres\n",
    "avg_score(M,F_bin,f1_score),avg_score(M,F_bin,normalized_mutual_info_score),avg_score(M,F_bin,adjusted_rand_score)"
   ]
  },
  {
   "cell_type": "code",
   "execution_count": 27,
   "id": "0dbc33d8",
   "metadata": {},
   "outputs": [
    {
     "data": {
      "text/plain": [
       "(0.6542895824760726, 0.13771475518842136, 0.17697048050291575)"
      ]
     },
     "execution_count": 27,
     "metadata": {},
     "output_type": "execute_result"
    }
   ],
   "source": [
    "Thres = median(F)\n",
    "F_bin = F.>Thres\n",
    "avg_score(M,F_bin,f1_score),avg_score(M,F_bin,normalized_mutual_info_score),avg_score(M,F_bin,adjusted_rand_score)"
   ]
  },
  {
   "cell_type": "code",
   "execution_count": 28,
   "id": "7fdbc69f",
   "metadata": {},
   "outputs": [
    {
     "data": {
      "text/plain": [
       "300×3 Matrix{Float64}:\n",
       " 0.053968   0.0840525  0.001\n",
       " 0.001      0.001      0.221485\n",
       " 0.001      0.267522   0.001\n",
       " 0.001      0.001      0.21981\n",
       " 0.001      0.177681   0.001\n",
       " 0.249109   0.001      0.001\n",
       " 0.001      0.315079   0.001\n",
       " 0.001      0.404113   0.13541\n",
       " 0.147581   0.001      0.001\n",
       " 0.0437043  0.001      0.001\n",
       " 0.001      0.001      0.131429\n",
       " 0.0757362  0.0639905  0.001\n",
       " 0.117496   0.202151   0.001\n",
       " ⋮                     \n",
       " 0.001      0.001      0.0768061\n",
       " 0.001      0.001      0.0863334\n",
       " 0.19828    0.001      0.001\n",
       " 0.001      0.0866691  0.001\n",
       " 0.0963818  0.001      0.001\n",
       " 0.001      0.0874093  0.001\n",
       " 0.001      0.001      0.173984\n",
       " 0.0973494  0.001      0.001\n",
       " 0.145231   0.001      0.001\n",
       " 0.001      0.132457   0.001\n",
       " 0.135109   0.0987575  0.001\n",
       " 0.0970983  0.001      0.001"
      ]
     },
     "execution_count": 28,
     "metadata": {},
     "output_type": "execute_result"
    }
   ],
   "source": [
    "F"
   ]
  },
  {
   "cell_type": "code",
   "execution_count": 29,
   "id": "e96ff334",
   "metadata": {},
   "outputs": [
    {
     "data": {
      "text/plain": [
       "3-element Vector{Float64}:\n",
       "  1.3065322994899962\n",
       "  2.7155847250190432\n",
       " 58.90366587490231"
      ]
     },
     "execution_count": 29,
     "metadata": {},
     "output_type": "execute_result"
    }
   ],
   "source": [
    "B"
   ]
  },
  {
   "cell_type": "code",
   "execution_count": 30,
   "id": "7c6d5e9e",
   "metadata": {},
   "outputs": [
    {
     "data": {
      "text/plain": [
       "3×2 Matrix{Float64}:\n",
       "  1.73292    1.40107\n",
       "  0.943953   0.206556\n",
       " -2.55981   -2.42822"
      ]
     },
     "execution_count": 30,
     "metadata": {},
     "output_type": "execute_result"
    }
   ],
   "source": [
    "A"
   ]
  },
  {
   "cell_type": "code",
   "execution_count": 31,
   "id": "58ae0273",
   "metadata": {},
   "outputs": [
    {
     "data": {
      "text/plain": [
       "0.001"
      ]
     },
     "execution_count": 31,
     "metadata": {},
     "output_type": "execute_result"
    }
   ],
   "source": [
    "Thres"
   ]
  },
  {
   "cell_type": "code",
   "execution_count": 32,
   "id": "435e48b1",
   "metadata": {},
   "outputs": [
    {
     "data": {
      "text/plain": [
       "0.016276477146042363"
      ]
     },
     "execution_count": 32,
     "metadata": {},
     "output_type": "execute_result"
    }
   ],
   "source": [
    "n_edges = ne(G)\n",
    "n_vertices = nv(G)\n",
    "2*n_edges/( n_vertices * (n_vertices - 1) )"
   ]
  },
  {
   "cell_type": "code",
   "execution_count": 33,
   "id": "cf9ec6dc-2943-4038-9bd2-a153c4d81c0b",
   "metadata": {},
   "outputs": [
    {
     "data": {
      "text/plain": [
       "3-element Vector{Vector{Int64}}:\n",
       " [4, 6, 11, 14, 16, 20, 21, 22, 34, 36  …  999950, 999958, 999961, 999974, 999975, 999976, 999981, 999982, 999988, 999993]\n",
       " [10, 13, 17, 21, 23, 38, 49, 54, 57, 58  …  999962, 999966, 999968, 999971, 999972, 999979, 999990, 999995, 999997, 999998]\n",
       " [6, 24, 35, 42, 43, 44, 50, 51, 55, 58  …  999951, 999957, 999960, 999963, 999967, 999969, 999970, 999977, 999984, 999999]"
      ]
     },
     "execution_count": 33,
     "metadata": {},
     "output_type": "execute_result"
    }
   ],
   "source": [
    "CmtyVV = utils.generate_bipartite_graph(1000000,3,nothing,0.15)"
   ]
  },
  {
   "cell_type": "code",
   "execution_count": null,
   "id": "2702a92b-4444-4a11-a8e7-d9c5039ea82d",
   "metadata": {},
   "outputs": [],
   "source": [
    "G = genAGM.genAgm(CmtyVV,[0.3,0.2,0.1],-1.,false,10000)"
   ]
  },
  {
   "cell_type": "code",
   "execution_count": 35,
   "id": "c90c804c",
   "metadata": {},
   "outputs": [],
   "source": [
    "### TO DO: Evaluate model"
   ]
  },
  {
   "cell_type": "code",
   "execution_count": 36,
   "id": "47363b75",
   "metadata": {},
   "outputs": [
    {
     "name": "stdout",
     "output_type": "stream",
     "text": [
      "              precision    recall  f1-score   support\n",
      "\n",
      "       False       0.73      0.76      0.74       164\n",
      "        True       0.70      0.65      0.67       136\n",
      "\n",
      "    accuracy                           0.71       300\n",
      "   macro avg       0.71      0.71      0.71       300\n",
      "weighted avg       0.71      0.71      0.71       300\n",
      "\n"
     ]
    }
   ],
   "source": [
    "str_classification = classification_report(F_bin[:,1],M[:,1])\n",
    "println(str_classification)"
   ]
  },
  {
   "cell_type": "code",
   "execution_count": 37,
   "id": "bc1675ea",
   "metadata": {},
   "outputs": [
    {
     "ename": "InterruptException",
     "evalue": "InterruptException:",
     "output_type": "error",
     "traceback": [
      "InterruptException:",
      "",
      "Stacktrace:",
      "  [1] limitstringmime(mime::MIME{Symbol(\"text/plain\")}, x::Type, forcetext::Bool)",
      "    @ IJulia ~/.julia/packages/IJulia/dR0lE/src/inline.jl:43",
      "  [2] limitstringmime",
      "    @ ~/.julia/packages/IJulia/dR0lE/src/inline.jl:38 [inlined]",
      "  [3] display_mimestring(m::MIME{Symbol(\"text/plain\")}, x::Type)",
      "    @ IJulia ~/.julia/packages/IJulia/dR0lE/src/display.jl:71",
      "  [4] display_dict(x::Type)",
      "    @ IJulia ~/.julia/packages/IJulia/dR0lE/src/display.jl:102",
      "  [5] #invokelatest#2",
      "    @ ./essentials.jl:1055 [inlined]",
      "  [6] invokelatest",
      "    @ ./essentials.jl:1052 [inlined]",
      "  [7] execute_request(socket::ZMQ.Socket, msg::IJulia.Msg)",
      "    @ IJulia ~/.julia/packages/IJulia/dR0lE/src/execute_request.jl:119",
      "  [8] #invokelatest#2",
      "    @ ./essentials.jl:1055 [inlined]",
      "  [9] invokelatest",
      "    @ ./essentials.jl:1052 [inlined]",
      " [10] eventloop(socket::ZMQ.Socket)",
      "    @ IJulia ~/.julia/packages/IJulia/dR0lE/src/eventloop.jl:8",
      " [11] (::IJulia.var\"#15#18\")()",
      "    @ IJulia ~/.julia/packages/IJulia/dR0lE/src/eventloop.jl:38"
     ]
    }
   ],
   "source": [
    "res = f1_score(M[:,1],M[:,1])\n",
    "eltype(res)"
   ]
  },
  {
   "cell_type": "code",
   "execution_count": 38,
   "id": "f5d0397c",
   "metadata": {},
   "outputs": [
    {
     "data": {
      "text/plain": [
       "300×3 BitMatrix:\n",
       " 0  1  1\n",
       " 0  1  1\n",
       " 0  1  1\n",
       " 1  0  1\n",
       " 0  0  1\n",
       " 0  1  1\n",
       " 0  0  1\n",
       " 1  1  1\n",
       " 0  0  1\n",
       " 0  1  0\n",
       " 1  0  0\n",
       " 0  1  0\n",
       " 0  1  1\n",
       " ⋮     \n",
       " 0  1  1\n",
       " 1  1  0\n",
       " 0  1  0\n",
       " 0  0  1\n",
       " 0  0  1\n",
       " 1  0  1\n",
       " 0  0  1\n",
       " 1  0  1\n",
       " 0  0  0\n",
       " 0  0  0\n",
       " 1  1  1\n",
       " 1  1  0"
      ]
     },
     "execution_count": 38,
     "metadata": {},
     "output_type": "execute_result"
    }
   ],
   "source": [
    "N = length(vertices(G))\n",
    "bitrand(N,3)"
   ]
  },
  {
   "cell_type": "code",
   "execution_count": 39,
   "id": "1613e7e7",
   "metadata": {},
   "outputs": [
    {
     "data": {
      "text/plain": [
       "1×3 Matrix{Float64}:\n",
       " 0.0697077  0.077157  0.0780508"
      ]
     },
     "execution_count": 39,
     "metadata": {},
     "output_type": "execute_result"
    }
   ],
   "source": [
    "mean(F,dims=1)"
   ]
  },
  {
   "cell_type": "code",
   "execution_count": 40,
   "id": "64f51d89",
   "metadata": {},
   "outputs": [
    {
     "data": {
      "text/plain": [
       "([0.5230856128078188 0.5301438242036912 0.4855833313645009], (100, 5), (100, 3), (3, 5))"
      ]
     },
     "execution_count": 40,
     "metadata": {},
     "output_type": "execute_result"
    }
   ],
   "source": [
    "X = rand(100,5)\n",
    "M = rand(100,3)\n",
    "A = rand(3,5)\n",
    "mean(M,dims=1),size(X),size(M),size(A)"
   ]
  },
  {
   "cell_type": "code",
   "execution_count": 41,
   "id": "91f40719",
   "metadata": {},
   "outputs": [
    {
     "data": {
      "text/plain": [
       "1×5 adjoint(::Vector{Float64}) with eltype Float64:\n",
       " -0.400884  -0.0157764  -0.555931  0.179094  0.433377"
      ]
     },
     "execution_count": 41,
     "metadata": {},
     "output_type": "execute_result"
    }
   ],
   "source": [
    "(X[1,:]' - (M[1,:]' * A))"
   ]
  },
  {
   "cell_type": "code",
   "execution_count": 42,
   "id": "32ecd05f",
   "metadata": {},
   "outputs": [
    {
     "data": {
      "text/plain": [
       "(1, 5)"
      ]
     },
     "execution_count": 42,
     "metadata": {},
     "output_type": "execute_result"
    }
   ],
   "source": [
    "size(M[1,:]' * A)"
   ]
  },
  {
   "cell_type": "code",
   "execution_count": 43,
   "id": "6b22d947",
   "metadata": {},
   "outputs": [
    {
     "data": {
      "text/plain": [
       "129.2980444103901"
      ]
     },
     "execution_count": 43,
     "metadata": {},
     "output_type": "execute_result"
    }
   ],
   "source": [
    "sum( sqrt(sum( (X[i, :]' -  (M[i, :]' * A) ).^2)) for i in 1:100)"
   ]
  },
  {
   "cell_type": "code",
   "execution_count": 54,
   "id": "435c9ecf",
   "metadata": {},
   "outputs": [
    {
     "data": {
      "text/plain": [
       "euclidean_distance (generic function with 1 method)"
      ]
     },
     "execution_count": 54,
     "metadata": {},
     "output_type": "execute_result"
    }
   ],
   "source": [
    "function euclidean_distance(p1, p2)\n",
    "    if length(p1) != length(p2)\n",
    "        throw(DimensionMismatch(\"Vectors must have the same length\"))\n",
    "    end\n",
    "    return sum((p1 .- p2).^2)\n",
    "end"
   ]
  },
  {
   "cell_type": "code",
   "execution_count": 55,
   "id": "b5441575",
   "metadata": {},
   "outputs": [
    {
     "data": {
      "text/plain": [
       "BanerjeeOverlapping(3, Main.euclidean_distance, 300, 2)"
      ]
     },
     "execution_count": 55,
     "metadata": {},
     "output_type": "execute_result"
    }
   ],
   "source": [
    "N,D = size(Y)\n",
    "b = BanerjeeOverlapping(3,euclidean_distance,N,D)"
   ]
  },
  {
   "cell_type": "code",
   "execution_count": 56,
   "id": "525694d2",
   "metadata": {},
   "outputs": [
    {
     "data": {
      "text/plain": [
       "Euclidean"
      ]
     },
     "execution_count": 56,
     "metadata": {},
     "output_type": "execute_result"
    }
   ],
   "source": [
    "typeof(euclidean)"
   ]
  },
  {
   "cell_type": "code",
   "execution_count": 57,
   "id": "8fdd1e30",
   "metadata": {},
   "outputs": [
    {
     "data": {
      "text/plain": [
       "0.10657738074224453"
      ]
     },
     "execution_count": 57,
     "metadata": {},
     "output_type": "execute_result"
    }
   ],
   "source": [
    "b.dist_func( rand(3)[1] , rand(3)[1] )"
   ]
  },
  {
   "cell_type": "code",
   "execution_count": 66,
   "id": "eb653ec3",
   "metadata": {
    "scrolled": true
   },
   "outputs": [
    {
     "data": {
      "image/png": "[encoded data removed]",
      "text/plain": [
       "Figure(PyObject <Figure size 640x480 with 1 Axes>)"
      ]
     },
     "metadata": {},
     "output_type": "display_data"
    },
    {
     "data": {
      "text/plain": [
       "(Bool[0 1 1; 0 0 0; … ; 1 1 0; 0 1 1], [0.5697323698840676 0.46026879696325995; -1.4821305639552784 -1.3786662078083072; 0.9191907698862778 1.0813353234414254], [0.3833333333333333 0.61 0.5466666666666666; 0.3833333333333333 0.39 0.45333333333333337; … ; 0.6166666666666667 0.61 0.45333333333333337; 0.3833333333333333 0.61 0.5466666666666666])"
      ]
     },
     "execution_count": 66,
     "metadata": {},
     "output_type": "execute_result"
    }
   ],
   "source": [
    "M_pred,A,alphas = fit(b, Y, 3, 40, true)\n",
    "# scatter(A[:,1],A[:,2],color=\"red\")\n",
    "# scatter(Y[:,1],Y[:,2],color=\"blue\")"
   ]
  },
  {
   "cell_type": "code",
   "execution_count": 70,
   "id": "ce791279-8561-4810-acfd-b0b2bf97d68c",
   "metadata": {},
   "outputs": [
    {
     "data": {
      "text/plain": [
       "true"
      ]
     },
     "execution_count": 70,
     "metadata": {},
     "output_type": "execute_result"
    }
   ],
   "source": [
    "eltype(M_pred) == Bool"
   ]
  },
  {
   "cell_type": "code",
   "execution_count": 67,
   "id": "317cc31c",
   "metadata": {},
   "outputs": [
    {
     "data": {
      "text/plain": [
       "3-element Vector{Float64}:\n",
       " 0.7263886919964146\n",
       " 0.17972986203141395\n",
       " 0.21996426829759155"
      ]
     },
     "execution_count": 67,
     "metadata": {},
     "output_type": "execute_result"
    }
   ],
   "source": [
    "compute_all_metrics(M,M_pred)"
   ]
  },
  {
   "cell_type": "code",
   "execution_count": 50,
   "id": "3f2cadc2-0eda-4dd2-8ef7-e6b5f730a269",
   "metadata": {},
   "outputs": [
    {
     "data": {
      "text/plain": [
       "3×2 Matrix{Float64}:\n",
       "  1.72065    1.57967\n",
       " -1.20025   -1.14753\n",
       " -0.687827  -0.589739"
      ]
     },
     "execution_count": 50,
     "metadata": {},
     "output_type": "execute_result"
    }
   ],
   "source": [
    "A"
   ]
  },
  {
   "cell_type": "code",
   "execution_count": 64,
   "id": "ad3f9cf7",
   "metadata": {},
   "outputs": [
    {
     "data": {
      "image/png": "[encoded data removed]",
      "text/plain": [
       "Figure(PyObject <Figure size 640x480 with 1 Axes>)"
      ]
     },
     "metadata": {},
     "output_type": "display_data"
    },
    {
     "data": {
      "text/plain": [
       "PyObject <matplotlib.collections.PathCollection object at 0x7f5f255dac50>"
      ]
     },
     "execution_count": 64,
     "metadata": {},
     "output_type": "execute_result"
    }
   ],
   "source": [
    "M,A,alphas = fit(b, Y, 3, 30, false)\n",
    "scatter(A[:,1],A[:,2],color=\"red\")\n",
    "scatter(Y[:,1],Y[:,2],color=\"blue\")"
   ]
  },
  {
   "cell_type": "code",
   "execution_count": 65,
   "id": "b1813e9b-c2fe-4b18-bd6f-cf640edd4d7c",
   "metadata": {},
   "outputs": [
    {
     "data": {
      "text/plain": [
       "3×2 Matrix{Float64}:\n",
       "  0.682382   0.773632\n",
       " -1.18321   -1.21936\n",
       "  0.512807   0.660275"
      ]
     },
     "execution_count": 65,
     "metadata": {},
     "output_type": "execute_result"
    }
   ],
   "source": [
    "A"
   ]
  },
  {
   "cell_type": "code",
   "execution_count": null,
   "id": "0cfabaef",
   "metadata": {
    "scrolled": true
   },
   "outputs": [],
   "source": [
    "M,A,alphas = fit_relaxed(b, Y, 3, 10)\n",
    "scatter(A[:,1],A[:,2],color=\"red\")\n",
    "scatter(Y[:,1],Y[:,2],color=\"blue\")"
   ]
  },
  {
   "cell_type": "code",
   "execution_count": null,
   "id": "c9549acb-e7a4-4012-a598-27d15d63196c",
   "metadata": {},
   "outputs": [],
   "source": [
    "A"
   ]
  },
  {
   "cell_type": "code",
   "execution_count": null,
   "id": "370c1f1f",
   "metadata": {},
   "outputs": [],
   "source": [
    "M,A,alphas = fit_joint(b, Y, 3)\n",
    "scatter(A[:,1],A[:,2],color=\"red\")\n",
    "scatter(Y[:,1],Y[:,2],color=\"blue\")"
   ]
  },
  {
   "cell_type": "code",
   "execution_count": null,
   "id": "e8351038",
   "metadata": {},
   "outputs": [],
   "source": [
    "M,A,alphas = fit_joint_relaxed(b, Y, 3)\n",
    "scatter(A[:,1],A[:,2],color=\"red\")\n",
    "scatter(Y[:,1],Y[:,2],color=\"blue\")"
   ]
  },
  {
   "cell_type": "code",
   "execution_count": null,
   "id": "4559e542",
   "metadata": {},
   "outputs": [],
   "source": [
    "M[1:5,:]"
   ]
  },
  {
   "cell_type": "code",
   "execution_count": null,
   "id": "8c696a07",
   "metadata": {},
   "outputs": [],
   "source": [
    "A"
   ]
  },
  {
   "cell_type": "code",
   "execution_count": null,
   "id": "81161020",
   "metadata": {},
   "outputs": [],
   "source": [
    "alphas"
   ]
  }
 ],
 "metadata": {
  "kernelspec": {
   "display_name": "Julia 1.11.1",
   "language": "julia",
   "name": "julia-1.11"
  },
  "language_info": {
   "file_extension": ".jl",
   "mimetype": "application/julia",
   "name": "julia",
   "version": "1.11.1"
  }
 },
 "nbformat": 4,
 "nbformat_minor": 5
}
